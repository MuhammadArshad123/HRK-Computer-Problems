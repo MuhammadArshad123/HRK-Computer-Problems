{
  "nbformat": 4,
  "nbformat_minor": 0,
  "metadata": {
    "colab": {
      "provenance": [],
      "authorship_tag": "ABX9TyMwiC2cZynFs2rnW9iYvnKg",
      "include_colab_link": true
    },
    "kernelspec": {
      "name": "python3",
      "display_name": "Python 3"
    },
    "language_info": {
      "name": "python"
    }
  },
  "cells": [
    {
      "cell_type": "markdown",
      "metadata": {
        "id": "view-in-github",
        "colab_type": "text"
      },
      "source": [
        "<a href=\"https://colab.research.google.com/github/MuhammadArshad123/HRK-Computer-Problems/blob/main/HRK_Computer_Problem_Ch_3.ipynb\" target=\"_parent\"><img src=\"https://colab.research.google.com/assets/colab-badge.svg\" alt=\"Open In Colab\"/></a>"
      ]
    },
    {
      "cell_type": "markdown",
      "source": [
        "#<center>HRK Ch. 3 Computer Problem\n",
        "A $10$ kg object is launched veritically with $v_i=50$ m/s. There is the force of gravity $F_g$ and a force of friction $F_y=-bv_y$. $F_y$ opposes motion so it is $-$ (down) when the object moves up and $+$ (up) when it moves down.\n",
        "\n",
        "$(a):$ Generate distance-time graphs for the object using $b=0$ and using different step sizes for $𝚫t$  such as $1.0$s, $0.1$s, and $0.01$s. Show the results on a single graph. How does the peak vary with step size?\n",
        "\n",
        "$(b):$ Use step size $𝚫t=0.01$s and try nonzero values of $b$. Observe how the peak varies with $b$ and how the shape of the graphs changes."
      ],
      "metadata": {
        "id": "nAX8AhjEhrFA"
      }
    },
    {
      "cell_type": "markdown",
      "source": [
        "$$F_{net}=ma=F_g + F_y$$\n",
        "Thus,\n",
        "$$F_{net}=ma=mg-bv_y$$\n",
        "$$a = g - \\frac{b}{m}v_y$$\n",
        "If we set $a=\\frac{dv}{dt}$ (simplifying $v_y$ to $v$ ) than we get\n",
        "$$\\frac{dv}{dt} = g - \\frac{b}{m}v$$\n",
        "$$v(0)=50$$\n",
        "Which is a separable differential equation with an initial condition. We can use Euler's method to recieve all velocity values. To get position from velocity we will utilize the Trapezoidal rule to integrate as we gather velocity values from Euler's method. \n",
        "$$x+= \\frac{dt}{2}(v_{i-1} + v_i)$$\n",
        "We know that $x_i$ or $x(0)=0 $"
      ],
      "metadata": {
        "id": "ELTbQSlD4sSv"
      }
    },
    {
      "cell_type": "code",
      "source": [
        "import numpy as np\n",
        "import matplotlib.pyplot as plt\n",
        "#Constants\n",
        "ti=0\n",
        "vi = 50 \n",
        "xi=0 \n",
        "m=10 \n",
        "g = -9.80665\n",
        "#Empty arrays to graph later\n",
        "velocity = [vi]\n",
        "position = [xi]\n",
        "time=[ti]\n",
        "\n",
        "def reset(velocity, position, time):\n",
        "  velocity = [vi]\n",
        "  position = [xi]\n",
        "  time=[ti]\n",
        "\n",
        "def euler(b, dt):\n",
        "  while position[-1] >= 0:\n",
        "    # Calculate the derivative at the current point\n",
        "    dvdt = g - b / m * velocity[-1]\n",
        "\n",
        "    # Update the values of v and x\n",
        "    currV = velocity[-1] + dt * dvdt\n",
        "    velocity.append(currV)\n",
        "    currX = position[-1] + dt / 2 * (velocity[-1] + velocity[-2]) #Integrate using trapezoidal rule\n",
        "    position.append(currX)\n",
        "\n",
        "    # Update the value of t\n",
        "    time.append(time[-1] + dt)\n",
        "  plt.plot(time, position)\n",
        "  plt.xlabel('Time (s)')\n",
        "  plt.ylabel('Distance (m)')\n",
        "  plt.show()\n",
        "euler(0,.1) # Change this line of code to observe differences in B and Step Size"
      ],
      "metadata": {
        "id": "idCGa6z21JzD",
        "colab": {
          "base_uri": "https://localhost:8080/",
          "height": 279
        },
        "outputId": "139d8b0c-afa4-4e2f-b93d-091d1cf89fb6"
      },
      "execution_count": 50,
      "outputs": [
        {
          "output_type": "display_data",
          "data": {
            "text/plain": [
              "<Figure size 432x288 with 1 Axes>"
            ],
            "image/png": "[encoded data removed]"
          },
          "metadata": {
            "needs_background": "light"
          }
        }
      ]
    },
    {
      "cell_type": "markdown",
      "source": [
        "Ultimately an increase in $b$ or air resistance means the time the object stays in the air is shorter while increasing the step size $𝚫t$ generates less accurate graphs that are linear instead of curved and decreases the peak of the motion."
      ],
      "metadata": {
        "id": "Mj_l3OFu6zl2"
      }
    },
    {
      "cell_type": "code",
      "source": [],
      "metadata": {
        "id": "4alwZg_D68sS"
      },
      "execution_count": null,
      "outputs": []
    }
  ]
}