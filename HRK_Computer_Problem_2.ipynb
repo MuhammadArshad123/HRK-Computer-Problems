{
  "nbformat": 4,
  "nbformat_minor": 0,
  "metadata": {
    "colab": {
      "provenance": [],
      "authorship_tag": "ABX9TyOlIZ+cGmElY6db5ygx+c07",
      "include_colab_link": true
    },
    "kernelspec": {
      "name": "python3",
      "display_name": "Python 3"
    },
    "language_info": {
      "name": "python"
    }
  },
  "cells": [
    {
      "cell_type": "markdown",
      "metadata": {
        "id": "view-in-github",
        "colab_type": "text"
      },
      "source": [
        "<a href=\"https://colab.research.google.com/github/MuhammadArshad123/HRK-Computer-Problems/blob/main/HRK_Computer_Problem_2.ipynb\" target=\"_parent\"><img src=\"https://colab.research.google.com/assets/colab-badge.svg\" alt=\"Open In Colab\"/></a>"
      ]
    },
    {
      "cell_type": "markdown",
      "source": [
        "# Halliday Resnick Krane, Ch.2 Computer Problem\n",
        "The velocity of an object is given by\n",
        "$$v_x(t)=e^{-t^2 / 100}(t+10 \\sin \\pi t) .$$\n",
        "\n",
        "Both $v_x$ and $x$ are zero when $t=0$. (a) Find first time $v_x = 0$ after the start and find the displacement from the origin ($x$) at that point. "
      ],
      "metadata": {
        "id": "UMEMGiofr0DX"
      }
    },
    {
      "cell_type": "markdown",
      "source": [
        "We are going to use the backtracking method to find the first root of $v_x$. Then we will find displacement by computing $[\\int_{0}^{root} v_x \\,dt ]$. \n",
        "\n",
        "First we must establish bounds, $[a,b]$ where there is only one root to use the Intermediate Value Theorem. Let's the graph the function to establish such bounds."
      ],
      "metadata": {
        "id": "t0qT-2f2u0tW"
      }
    },
    {
      "cell_type": "code",
      "source": [
        "import matplotlib.pyplot as plt\n",
        "import numpy as np\n",
        "import math\n",
        "\n",
        "def velocity(t):\n",
        "  return np.exp((-(t**2))/100) * (t + 10 * np.sin(np.pi * t))\n",
        "\n",
        "T = np.linspace(0, 5, 1000) #Returns 1000 evenly spaced numbers from 0 to 5 in a Numpy array.\n",
        "v = velocity(T) #Calculates the velocity at time t for every value in the array T\n",
        "\n",
        "# Plot the v(t) values\n",
        "plt.plot(T, v)\n",
        "\n",
        "\n",
        "# Add axis and title \n",
        "plt.axhline(0, color='black')\n",
        "plt.axvline(0, color='black')\n",
        "plt.xlabel('t')\n",
        "plt.ylabel('v(t)')\n",
        "plt.title('Velocity')\n",
        "\n",
        "# Show the plot\n",
        "plt.show()"
      ],
      "metadata": {
        "colab": {
          "base_uri": "https://localhost:8080/",
          "height": 261
        },
        "id": "UGam_DPuvNF5",
        "outputId": "6bf29679-ccbd-49a2-b5d8-078b662a283d"
      },
      "execution_count": 29,
      "outputs": [
        {
          "output_type": "display_data",
          "data": {
            "text/plain": [
              "<Figure size 540x252 with 1 Axes>"
            ],
            "image/png": "[encoded data removed]"
          },
          "metadata": {
            "needs_background": "light"
          }
        }
      ]
    },
    {
      "cell_type": "markdown",
      "source": [
        "We can see the derivative is somewhere around 1 by graphing, so we can establish bounds $[a,b]$ such that $a=0.8$ and $b=1.2$. Now we can find the exact value using backtracking. Backtracking uses IVT multiple times until it narrows down where the root is. The degree of precision is controlled by tolerance. "
      ],
      "metadata": {
        "id": "6n91rnli1SDP"
      }
    },
    {
      "cell_type": "code",
      "source": [
        "def bisect(f, a, b, tolerance): \n",
        "    # check if a and b bound a root\n",
        "    if np.sign(f(a)) == np.sign(f(b)): #They have to be opposite signs otherwise there's no value between them that goes through 0\n",
        "        raise Exception(\"A and B do not bound a root\")\n",
        "    m = (a + b)/2 #midpoint\n",
        "    if np.abs(f(m)) < tolerance: #Is the value at m ([f(m)]) extremely close to 0 [1e-6]? If it is less than, than the number is practically 0, and the root is found.\n",
        "        return m\n",
        "      #Root not found, so use recursion to go through the method again with updated bounds\n",
        "    elif np.sign(f(a)) == np.sign(f(m)):\n",
        "        return bisect(f, m, b, tolerance) #bound [m,b]\n",
        "    elif np.sign(f(b)) == np.sign(f(m)):\n",
        "        return bisect(f, a, m, tolerance) #bound [a,m]\n",
        "\n",
        "root = bisect(velocity, 0.8, 1.2, 1e-6) #1e-6 is a sufficiently small number.\n",
        "print(root) #should be near 1.03"
      ],
      "metadata": {
        "colab": {
          "base_uri": "https://localhost:8080/"
        },
        "id": "yU1qGIqf2xAH",
        "outputId": "e5133706-dda6-4666-bbdf-073f7e6decbe"
      },
      "execution_count": 30,
      "outputs": [
        {
          "output_type": "stream",
          "name": "stdout",
          "text": [
            "1.0329381942749023\n"
          ]
        }
      ]
    },
    {
      "cell_type": "markdown",
      "source": [
        "So $v_x = 0$ at $t=1.0329$. We must now integrate $v_x$ to find the displacement from $t=0$ to $t=1.0329$, in otherwords\n",
        " $[\\int_{0}^{1.0329} v_x \\,dt ]$. We can accomplish this through the Trapezoidal rule."
      ],
      "metadata": {
        "id": "CsHdoMGM_PcO"
      }
    },
    {
      "cell_type": "code",
      "source": [
        "#Bounds\n",
        "a = 0\n",
        "b = root\n",
        "n = 100  # Number of points\n",
        "x = np.linspace(a, b, n) #[100 [n] evenly spaced regions from 0 [a] to 1.0329 [b]]\n",
        "y = velocity(x) #Finds the v(x) for all points in array X.\n",
        "h = (b - a) / (n - 1)  # Step size"
      ],
      "metadata": {
        "id": "ow1bFfmMEBzs"
      },
      "execution_count": 41,
      "outputs": []
    },
    {
      "cell_type": "markdown",
      "source": [
        "$I = \\frac{h}{2} \\left( y_0 + 2 \\sum_{i=1}^{n-1} y_i + y_{n-1} \\right)$\n",
        "\n",
        "$I$ is the total area under the curve\n",
        "\n",
        "\n",
        "$h$ is the step size $(b-a)/(n-1)$ \n",
        "\n",
        "\n",
        "$y_0$ and $y_{n-1}$ are the values of the function at the endpoints of the interval\n",
        "\n",
        "\n",
        "$\\sum_{i=1}^{n-1} y_i$ is the sum of the values of the function at the intermediate points [meaning points between the endpoints]."
      ],
      "metadata": {
        "id": "oZkEw4qKG8j_"
      }
    },
    {
      "cell_type": "code",
      "source": [
        "I = h/2 * (y[0] + 2 * np.sum(y[1:n-1]) + y[n-1])\n",
        "print(I) #Should be around ~6.8"
      ],
      "metadata": {
        "colab": {
          "base_uri": "https://localhost:8080/"
        },
        "id": "IgLFjI0KbE8d",
        "outputId": "5ae29c7d-2b7e-4b65-d10e-aa5ef79e0ca0"
      },
      "execution_count": 42,
      "outputs": [
        {
          "output_type": "stream",
          "name": "stdout",
          "text": [
            "6.860540651967298\n"
          ]
        }
      ]
    }
  ]
}